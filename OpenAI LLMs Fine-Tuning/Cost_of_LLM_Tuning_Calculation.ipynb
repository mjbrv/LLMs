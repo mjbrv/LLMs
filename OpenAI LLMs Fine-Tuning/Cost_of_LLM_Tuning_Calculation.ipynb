{
 "cells": [
  {
   "cell_type": "markdown",
   "id": "c8210268",
   "metadata": {},
   "source": [
    "### The goal in this notebook is to show how to calculate the cost of tuning a LLM from OpenAI based on the size of the data for fine-tuning"
   ]
  },
  {
   "cell_type": "code",
   "execution_count": 1,
   "id": "bc742199",
   "metadata": {},
   "outputs": [
    {
     "data": {
      "text/html": [
       "<div>\n",
       "<style scoped>\n",
       "    .dataframe tbody tr th:only-of-type {\n",
       "        vertical-align: middle;\n",
       "    }\n",
       "\n",
       "    .dataframe tbody tr th {\n",
       "        vertical-align: top;\n",
       "    }\n",
       "\n",
       "    .dataframe thead th {\n",
       "        text-align: right;\n",
       "    }\n",
       "</style>\n",
       "<table border=\"1\" class=\"dataframe\">\n",
       "  <thead>\n",
       "    <tr style=\"text-align: right;\">\n",
       "      <th></th>\n",
       "      <th>medical_specialty</th>\n",
       "      <th>report</th>\n",
       "    </tr>\n",
       "  </thead>\n",
       "  <tbody>\n",
       "    <tr>\n",
       "      <th>0</th>\n",
       "      <td>Cardiovascular / Pulmonary</td>\n",
       "      <td>2-D M-MODE: , ,1.  Left atrial enlargement wit...</td>\n",
       "    </tr>\n",
       "    <tr>\n",
       "      <th>1</th>\n",
       "      <td>Cardiovascular / Pulmonary</td>\n",
       "      <td>1.  The left ventricular cavity size and wall ...</td>\n",
       "    </tr>\n",
       "    <tr>\n",
       "      <th>2</th>\n",
       "      <td>Cardiovascular / Pulmonary</td>\n",
       "      <td>2-D ECHOCARDIOGRAM,Multiple views of the heart...</td>\n",
       "    </tr>\n",
       "    <tr>\n",
       "      <th>3</th>\n",
       "      <td>Cardiovascular / Pulmonary</td>\n",
       "      <td>DESCRIPTION:,1.  Normal cardiac chambers size....</td>\n",
       "    </tr>\n",
       "    <tr>\n",
       "      <th>4</th>\n",
       "      <td>Cardiovascular / Pulmonary</td>\n",
       "      <td>2-D STUDY,1. Mild aortic stenosis, widely calc...</td>\n",
       "    </tr>\n",
       "  </tbody>\n",
       "</table>\n",
       "</div>"
      ],
      "text/plain": [
       "            medical_specialty  \\\n",
       "0  Cardiovascular / Pulmonary   \n",
       "1  Cardiovascular / Pulmonary   \n",
       "2  Cardiovascular / Pulmonary   \n",
       "3  Cardiovascular / Pulmonary   \n",
       "4  Cardiovascular / Pulmonary   \n",
       "\n",
       "                                              report  \n",
       "0  2-D M-MODE: , ,1.  Left atrial enlargement wit...  \n",
       "1  1.  The left ventricular cavity size and wall ...  \n",
       "2  2-D ECHOCARDIOGRAM,Multiple views of the heart...  \n",
       "3  DESCRIPTION:,1.  Normal cardiac chambers size....  \n",
       "4  2-D STUDY,1. Mild aortic stenosis, widely calc...  "
      ]
     },
     "execution_count": 1,
     "metadata": {},
     "output_type": "execute_result"
    }
   ],
   "source": [
    "import pandas as pd\n",
    "medical_reports = pd.read_csv(\"reports.csv\")\n",
    "medical_reports.head()"
   ]
  },
  {
   "cell_type": "markdown",
   "id": "bb3600ad",
   "metadata": {},
   "source": [
    "### Train-Test Split\n",
    "The ***train*** is the data will be used for fine-tuning"
   ]
  },
  {
   "cell_type": "code",
   "execution_count": 2,
   "id": "614fed69",
   "metadata": {},
   "outputs": [],
   "source": [
    "grouped_data = medical_reports.groupby(\"medical_specialty\").sample(110, random_state=42) # Sample 110 items from each class\n",
    "\n",
    "val_test_data = grouped_data.groupby(\"medical_specialty\").sample(10, random_state=42)  # sample 10 items from the above data\n",
    "val = val_test_data.groupby(\"medical_specialty\").head(5) # Take the first 5 of each class\n",
    "test = val_test_data.groupby(\"medical_specialty\").tail(5) # Take the last 5 of each class\n",
    "\n",
    "train = grouped_data[~grouped_data.index.isin(val_test_data.index)] # Take the remaining ones for training"
   ]
  },
  {
   "cell_type": "markdown",
   "id": "4e1090de",
   "metadata": {},
   "source": [
    "### Counting Number of Tokens\n",
    "To calculate cost of training, we need to count the number of tokens in the training set\n",
    "\n",
    "This is also important due to limitation of number of input tokens for models\n",
    "\n",
    "We calculate the cost of training for OpenAI's cheapest model, babbage-002\n",
    "\n",
    "For more information, check this [link](https://cookbook.openai.com/examples/how_to_count_tokens_with_tiktoken) from OpenAI"
   ]
  },
  {
   "cell_type": "code",
   "execution_count": 10,
   "id": "df62cb3b",
   "metadata": {},
   "outputs": [],
   "source": [
    "import tiktoken\n",
    "\n",
    "def num_tokens_from_string(string: str) -> int:\n",
    "    \"\"\"Returns the number of tokens in a text string\"\"\"\n",
    "    encoding = tiktoken.get_encoding(\"cl100k_base\")  # encoding for currently all models\n",
    "    num_tokens = len(encoding.encode(string))\n",
    "    return num_tokens"
   ]
  },
  {
   "cell_type": "code",
   "execution_count": 11,
   "id": "d54297b8",
   "metadata": {},
   "outputs": [
    {
     "name": "stdout",
     "output_type": "stream",
     "text": [
      "Average report length: 674.79 tokens\n",
      "Minimum report length: 14 tokens\n",
      "Maximum report length: 3701 tokens\n",
      "# The training dataset consists of: 337394 tokens\n"
     ]
    }
   ],
   "source": [
    "report_lengths = train['report'].apply(lambda x: num_tokens_from_string(x))\n",
    "avg_report_length = report_lengths.mean()\n",
    "min_report_length = report_lengths.min()\n",
    "max_report_length = report_lengths.max()\n",
    "report_length_sum = report_lengths.sum()\n",
    "\n",
    "print(f\"Average report length: {avg_report_length:.2f} tokens\")\n",
    "print(f\"Minimum report length: {min_report_length} tokens\")\n",
    "print(f\"Maximum report length: {max_report_length} tokens\")\n",
    "print(f\"# The training dataset consists of: {report_length_sum} tokens\")"
   ]
  },
  {
   "cell_type": "markdown",
   "id": "2c127ed2",
   "metadata": {},
   "source": [
    "## Important Note!\n",
    "Pricing changes relatively often, get the latest pricing information at the OpenAI pricing page:\n",
    "https://openai.com/pricing \n"
   ]
  },
  {
   "attachments": {
    "image-2.png": {
     "image/png": "[encoded data removed]"
    }
   },
   "cell_type": "markdown",
   "id": "516ef4bb",
   "metadata": {},
   "source": [
    "![image-2.png](attachment:image-2.png)"
   ]
  },
  {
   "cell_type": "code",
   "execution_count": 13,
   "id": "83a610b0",
   "metadata": {},
   "outputs": [
    {
     "name": "stdout",
     "output_type": "stream",
     "text": [
      "Fine-tuning of gpt-3.5-turbo costs ~ $2.70 per epoch\n"
     ]
    }
   ],
   "source": [
    "price_model = 0.0080   # Price for gpt-3.5-turbo for 1K tokens\n",
    "model = \"gpt-3.5-turbo\"\n",
    "price_per_epoch = (report_length_sum / 1000) * price_model \n",
    "print(f\"Fine-tuning of {model} costs ~ ${price_per_epoch:.2f} per epoch\") "
   ]
  }
 ],
 "metadata": {
  "kernelspec": {
   "display_name": "Python 3 (ipykernel)",
   "language": "python",
   "name": "python3"
  },
  "language_info": {
   "codemirror_mode": {
    "name": "ipython",
    "version": 3
   },
   "file_extension": ".py",
   "mimetype": "text/x-python",
   "name": "python",
   "nbconvert_exporter": "python",
   "pygments_lexer": "ipython3",
   "version": "3.11.5"
  }
 },
 "nbformat": 4,
 "nbformat_minor": 5
}
