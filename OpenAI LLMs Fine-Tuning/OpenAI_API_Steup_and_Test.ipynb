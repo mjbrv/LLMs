{
 "cells": [
  {
   "cell_type": "markdown",
   "id": "34ced712",
   "metadata": {},
   "source": [
    "## Objective:\n",
    "\n",
    "**Setup the OpenAI API and key and doing a quick test**"
   ]
  },
  {
   "cell_type": "code",
   "execution_count": 3,
   "id": "620dbf4f",
   "metadata": {},
   "outputs": [],
   "source": [
    "# pip install openai"
   ]
  },
  {
   "cell_type": "code",
   "execution_count": 4,
   "id": "8f789c7d",
   "metadata": {},
   "outputs": [],
   "source": [
    "import openai"
   ]
  },
  {
   "cell_type": "code",
   "execution_count": 8,
   "id": "401d01b6",
   "metadata": {},
   "outputs": [
    {
     "name": "stdout",
     "output_type": "stream",
     "text": [
      "1.6.1\n"
     ]
    }
   ],
   "source": [
    "print(openai.__version__)"
   ]
  },
  {
   "cell_type": "code",
   "execution_count": 6,
   "id": "123a511a",
   "metadata": {},
   "outputs": [],
   "source": [
    "from openai import OpenAI"
   ]
  },
  {
   "cell_type": "code",
   "execution_count": 10,
   "id": "591f557c",
   "metadata": {},
   "outputs": [],
   "source": [
    "# help(OpenAI)"
   ]
  },
  {
   "cell_type": "code",
   "execution_count": 18,
   "id": "a8f58590",
   "metadata": {},
   "outputs": [],
   "source": [
    "# from openAI platform website\n",
    "my_first_key = '......'"
   ]
  },
  {
   "cell_type": "code",
   "execution_count": 19,
   "id": "88ae1704",
   "metadata": {},
   "outputs": [],
   "source": [
    "# Environment Variable\n",
    "import os\n",
    "os.environ['OPENAI_API_KEY'] = my_first_key"
   ]
  },
  {
   "cell_type": "code",
   "execution_count": 20,
   "id": "05613f55",
   "metadata": {},
   "outputs": [],
   "source": [
    "# client = OpenAI(api_key=my_first_key) # or you can copy use api key here\n",
    "client = OpenAI() # if you set up environment variable "
   ]
  },
  {
   "cell_type": "code",
   "execution_count": 22,
   "id": "4a18fce8",
   "metadata": {},
   "outputs": [],
   "source": [
    "completion = client.chat.completions.create(\n",
    "  model=\"gpt-3.5-turbo\",\n",
    "  messages=[\n",
    "    {\"role\": \"system\", \"content\": \"You are a helpful assistant.\"},\n",
    "    {\"role\": \"user\", \"content\": \"Tell me about Jamaica!\"}\n",
    "  ]\n",
    ")"
   ]
  },
  {
   "cell_type": "code",
   "execution_count": 25,
   "id": "12571dd1",
   "metadata": {},
   "outputs": [
    {
     "name": "stdout",
     "output_type": "stream",
     "text": [
      "Jamaica is an island country located in the Caribbean Sea, south of Cuba and west of Haiti. It is known for its vibrant culture, stunning beaches, and reggae music. Here are a few key facts about Jamaica:\n",
      "\n",
      "1. Capital: The capital city of Jamaica is Kingston, which is also the largest city in the country.\n",
      "\n",
      "2. Language: The official language is English, but many Jamaicans also speak a local dialect known as Jamaican Patois.\n",
      "\n",
      "3. Independence: Jamaica gained independence from the United Kingdom on August 6, 1962.\n",
      "\n",
      "4. Landmarks: Jamaica is home to many beautiful landmarks, including the Blue Mountains, Dunn's River Falls, and the famous Bob Marley Museum.\n",
      "\n",
      "5. Music: Reggae music originated in Jamaica, with legendary artists like Bob Marley and Peter Tosh popularizing the genre worldwide.\n",
      "\n",
      "6. Cuisine: Jamaican cuisine is a unique blend of African, European, and Indian influences. Some popular dishes include jerk chicken, ackee and saltfish, and patties.\n",
      "\n",
      "7. Sports: Jamaica is well-known for its success in track and field events, producing world-class athletes like Usain Bolt and Shelly-Ann Fraser-Pryce.\n",
      "\n",
      "8. Tourism: Tourism is a significant industry in Jamaica, attracting visitors from all over the world who come to enjoy the country's beaches, waterfalls, and warm weather.\n",
      "\n",
      "9. Natural Beauty: Jamaica boasts stunning natural landscapes, with lush rainforests, clear turquoise waters, and beautiful coral reefs, making it an ideal destination for outdoor enthusiasts and nature lovers.\n",
      "\n",
      "10. Hospitality: Jamaicans are known for their warm and friendly nature, often referred to as \"Jamaican hospitality,\" ensuring visitors feel welcomed and at home during their stay.\n",
      "\n",
      "Jamaica is a destination that offers a mix of rich history, beautiful beaches, delicious cuisine, and a vibrant culture all in one place.\n"
     ]
    }
   ],
   "source": [
    "print(completion.choices[0].message.content)"
   ]
  },
  {
   "cell_type": "code",
   "execution_count": 23,
   "id": "5b05ab85",
   "metadata": {},
   "outputs": [
    {
     "data": {
      "text/plain": [
       "ChatCompletion(id='chatcmpl-8dQJfUYPbPNXxd7FRa2O9aKdk4xpl', choices=[Choice(finish_reason='stop', index=0, logprobs=None, message=ChatCompletionMessage(content='Jamaica is an island country located in the Caribbean Sea, south of Cuba and west of Haiti. It is known for its vibrant culture, stunning beaches, and reggae music. Here are a few key facts about Jamaica:\\n\\n1. Capital: The capital city of Jamaica is Kingston, which is also the largest city in the country.\\n\\n2. Language: The official language is English, but many Jamaicans also speak a local dialect known as Jamaican Patois.\\n\\n3. Independence: Jamaica gained independence from the United Kingdom on August 6, 1962.\\n\\n4. Landmarks: Jamaica is home to many beautiful landmarks, including the Blue Mountains, Dunn\\'s River Falls, and the famous Bob Marley Museum.\\n\\n5. Music: Reggae music originated in Jamaica, with legendary artists like Bob Marley and Peter Tosh popularizing the genre worldwide.\\n\\n6. Cuisine: Jamaican cuisine is a unique blend of African, European, and Indian influences. Some popular dishes include jerk chicken, ackee and saltfish, and patties.\\n\\n7. Sports: Jamaica is well-known for its success in track and field events, producing world-class athletes like Usain Bolt and Shelly-Ann Fraser-Pryce.\\n\\n8. Tourism: Tourism is a significant industry in Jamaica, attracting visitors from all over the world who come to enjoy the country\\'s beaches, waterfalls, and warm weather.\\n\\n9. Natural Beauty: Jamaica boasts stunning natural landscapes, with lush rainforests, clear turquoise waters, and beautiful coral reefs, making it an ideal destination for outdoor enthusiasts and nature lovers.\\n\\n10. Hospitality: Jamaicans are known for their warm and friendly nature, often referred to as \"Jamaican hospitality,\" ensuring visitors feel welcomed and at home during their stay.\\n\\nJamaica is a destination that offers a mix of rich history, beautiful beaches, delicious cuisine, and a vibrant culture all in one place.', role='assistant', function_call=None, tool_calls=None))], created=1704406643, model='gpt-3.5-turbo-0613', object='chat.completion', system_fingerprint=None, usage=CompletionUsage(completion_tokens=384, prompt_tokens=22, total_tokens=406))"
      ]
     },
     "execution_count": 23,
     "metadata": {},
     "output_type": "execute_result"
    }
   ],
   "source": [
    "completion"
   ]
  },
  {
   "cell_type": "code",
   "execution_count": null,
   "id": "d2c35143",
   "metadata": {},
   "outputs": [],
   "source": []
  },
  {
   "cell_type": "code",
   "execution_count": null,
   "id": "a82d4b45",
   "metadata": {},
   "outputs": [],
   "source": []
  }
 ],
 "metadata": {
  "kernelspec": {
   "display_name": "Python 3 (ipykernel)",
   "language": "python",
   "name": "python3"
  },
  "language_info": {
   "codemirror_mode": {
    "name": "ipython",
    "version": 3
   },
   "file_extension": ".py",
   "mimetype": "text/x-python",
   "name": "python",
   "nbconvert_exporter": "python",
   "pygments_lexer": "ipython3",
   "version": "3.11.5"
  }
 },
 "nbformat": 4,
 "nbformat_minor": 5
}
